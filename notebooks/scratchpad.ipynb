{
 "cells": [
  {
   "cell_type": "code",
   "execution_count": 1,
   "metadata": {},
   "outputs": [],
   "source": [
    "import pandas as pd\n",
    "import numpy as np\n",
    "import lightgbm as lgb\n",
    "from sklearn.model_selection import PredefinedSplit, GridSearchCV"
   ]
  },
  {
   "cell_type": "code",
   "execution_count": null,
   "metadata": {},
   "outputs": [],
   "source": [
    "df = pd.read_csv(\"/Users/hanyuwu/Study/predicting-default-of-a-public-firm/data/processed/processed_input.csv\")"
   ]
  },
  {
   "cell_type": "code",
   "execution_count": null,
   "metadata": {},
   "outputs": [],
   "source": [
    "df[\"Date\"] = pd.to_datetime(df[\"Date\"])"
   ]
  },
  {
   "cell_type": "code",
   "execution_count": null,
   "metadata": {},
   "outputs": [],
   "source": [
    "df.head()"
   ]
  },
  {
   "cell_type": "code",
   "execution_count": null,
   "metadata": {},
   "outputs": [],
   "source": [
    "lgbm = lgb.LGBMClassifier()\n",
    "param_grid = {\n",
    "    \"num_leaves\": [10, 20, 30],\n",
    "    \"max_depth\": [5, 10, 15],\n",
    "    \"learning_rate\": [0.01, 0.1, 0.5],\n",
    "    \"n_estimators\": [50, 100, 200],\n",
    "}"
   ]
  },
  {
   "cell_type": "code",
   "execution_count": null,
   "metadata": {},
   "outputs": [],
   "source": [
    "train_val, test = df[df[\"Date\"] < \"2020-01-01\"], df[df[\"Date\"] >= \"2020-01-01\"]"
   ]
  },
  {
   "cell_type": "code",
   "execution_count": null,
   "metadata": {},
   "outputs": [],
   "source": [
    "# Do a grid search using val only\n",
    "ps = PredefinedSplit(test_fold=(train_val[\"Date\"] >= \"2016-01-01\").astype(int))"
   ]
  },
  {
   "cell_type": "code",
   "execution_count": null,
   "metadata": {},
   "outputs": [],
   "source": [
    "X_train = train_val.drop(columns=[\"Company_name\", \"Date\", \"CompNo\", \"indicator\"])\n",
    "y_train = train_val[\"Y\"]"
   ]
  },
  {
   "cell_type": "code",
   "execution_count": null,
   "metadata": {},
   "outputs": [],
   "source": [
    "GridSearchCV(lgbm, param_grid, cv=ps).fit(X_train, y_train)"
   ]
  },
  {
   "cell_type": "code",
   "execution_count": null,
   "metadata": {},
   "outputs": [],
   "source": []
  },
  {
   "cell_type": "code",
   "execution_count": null,
   "metadata": {},
   "outputs": [],
   "source": [
    "import pandera as pa\n",
    "from pandera import DataFrameSchema, Column, Check\n",
    "\n",
    "\n",
    "# Define the schema for the data\n",
    "input_data_schema = DataFrameSchema(\n",
    "    {\n",
    "        'CompNo': Column(str, nullable=False, coerce=True),\n",
    "        'StkIndx': Column(float, nullable=True, coerce=True),\n",
    "        'STInt': Column(float, nullable=False, coerce=True),\n",
    "        'dtdlevel': Column(float, nullable=True, coerce=True),\n",
    "        'dtdtrend': Column(float, nullable=True, coerce=True),\n",
    "        'liqnonfinlevel': Column(float, nullable=True, coerce=True),\n",
    "        'liqnonfintrend': Column(float, nullable=True, coerce=True),\n",
    "        'ni2talevel': Column(float, nullable=True, coerce=True),\n",
    "        'ni2tatrend': Column(float, nullable=True, coerce=True),\n",
    "        'sizelevel': Column(float, nullable=True, coerce=True),\n",
    "        'sizetrend': Column(float, nullable=True, coerce=True),\n",
    "        'm2b': Column(float, nullable=True, coerce=True),\n",
    "        'sigma': Column(float, nullable=True, coerce=True),\n",
    "        'DTDmedianNonFin': Column(float, nullable=True, coerce=True),\n",
    "        'Company_name': Column(str, nullable=False, coerce=True),\n",
    "        'INDUSTRY2': Column(str, nullable=True, coerce=True),\n",
    "        'Date': Column(pa.DateTime, nullable=False, coerce=True),\n",
    "        'Y': Column(pa.Category, checks=pa.Check.isin([0,1]), nullable=False, coerce=True),\n",
    "        \n",
    "    }\n",
    ")"
   ]
  },
  {
   "cell_type": "code",
   "execution_count": null,
   "metadata": {},
   "outputs": [],
   "source": [
    "df = pd.read_csv(\"../data/input.csv\")\n",
    "df"
   ]
  },
  {
   "cell_type": "code",
   "execution_count": null,
   "metadata": {},
   "outputs": [],
   "source": [
    "df.isna().sum()"
   ]
  },
  {
   "cell_type": "code",
   "execution_count": null,
   "metadata": {},
   "outputs": [],
   "source": [
    "input_data_schema.validate(df)"
   ]
  }
 ],
 "metadata": {
  "kernelspec": {
   "display_name": "predicting-default-of-a-public-firm-QWi4XMvO-py3.11",
   "language": "python",
   "name": "python3"
  },
  "language_info": {
   "codemirror_mode": {
    "name": "ipython",
    "version": 3
   },
   "file_extension": ".py",
   "mimetype": "text/x-python",
   "name": "python",
   "nbconvert_exporter": "python",
   "pygments_lexer": "ipython3",
   "version": "3.11.5"
  }
 },
 "nbformat": 4,
 "nbformat_minor": 2
}
