{
 "cells": [
  {
   "cell_type": "code",
   "execution_count": 1,
   "metadata": {},
   "outputs": [],
   "source": [
    "import pandas as pd\n",
    "import numpy as np\n",
    "import pandera as pa\n",
    "import plotly.graph_objects as go\n",
    "import warnings\n",
    "warnings.filterwarnings(\"ignore\")\n",
    "from pandera import DataFrameSchema, Column, Check\n",
    "from ydata_profiling import ProfileReport"
   ]
  },
  {
   "cell_type": "code",
   "execution_count": 2,
   "metadata": {},
   "outputs": [],
   "source": [
    "raw = pd.read_csv(\"../data/raw/input.csv\")"
   ]
  },
  {
   "cell_type": "code",
   "execution_count": null,
   "metadata": {},
   "outputs": [],
   "source": [
    "profile = ProfileReport(raw, title=\"Profiling Report\")"
   ]
  },
  {
   "cell_type": "code",
   "execution_count": null,
   "metadata": {},
   "outputs": [],
   "source": [
    "profile.to_widgets()"
   ]
  },
  {
   "cell_type": "code",
   "execution_count": null,
   "metadata": {},
   "outputs": [],
   "source": [
    "profile.to_file(\"../output/profiling_report.html\")"
   ]
  },
  {
   "cell_type": "code",
   "execution_count": null,
   "metadata": {},
   "outputs": [],
   "source": [
    "# Define the schema for the data\n",
    "input_data_schema = DataFrameSchema(\n",
    "    {\n",
    "        'CompNo': Column(str, nullable=False, coerce=True),\n",
    "        'StkIndx': Column(float, nullable=True, coerce=True),\n",
    "        'STInt': Column(float, nullable=False, coerce=True),\n",
    "        'dtdlevel': Column(float, nullable=True, coerce=True),\n",
    "        'dtdtrend': Column(float, nullable=True, coerce=True),\n",
    "        'liqnonfinlevel': Column(float, nullable=True, coerce=True),\n",
    "        'liqnonfintrend': Column(float, nullable=True, coerce=True),\n",
    "        'ni2talevel': Column(float, nullable=True, coerce=True),\n",
    "        'ni2tatrend': Column(float, nullable=True, coerce=True),\n",
    "        'sizelevel': Column(float, nullable=True, coerce=True),\n",
    "        'sizetrend': Column(float, nullable=True, coerce=True),\n",
    "        'm2b': Column(float, nullable=True, coerce=True),\n",
    "        'sigma': Column(float, nullable=True, coerce=True),\n",
    "        'DTDmedianNonFin': Column(float, nullable=True, coerce=True),\n",
    "        'Company_name': Column(str, nullable=False, coerce=True),\n",
    "        'INDUSTRY2': Column(str, nullable=True, coerce=True),\n",
    "        'Date': Column(pa.DateTime, nullable=False, coerce=True),\n",
    "        'Y': Column(pa.Category, checks=pa.Check.isin([0,1]), nullable=False, coerce=True),\n",
    "        \n",
    "    }\n",
    ")"
   ]
  },
  {
   "cell_type": "code",
   "execution_count": null,
   "metadata": {},
   "outputs": [],
   "source": [
    "input_data_schema.validate(raw)"
   ]
  },
  {
   "cell_type": "code",
   "execution_count": 4,
   "metadata": {},
   "outputs": [
    {
     "data": {
      "application/vnd.plotly.v1+json": {
       "config": {
        "plotlyServerURL": "https://plot.ly"
       },
       "data": [
        {
         "colorscale": [
          [
           0,
           "rgb(103,0,31)"
          ],
          [
           0.1,
           "rgb(178,24,43)"
          ],
          [
           0.2,
           "rgb(214,96,77)"
          ],
          [
           0.3,
           "rgb(244,165,130)"
          ],
          [
           0.4,
           "rgb(253,219,199)"
          ],
          [
           0.5,
           "rgb(247,247,247)"
          ],
          [
           0.6,
           "rgb(209,229,240)"
          ],
          [
           0.7,
           "rgb(146,197,222)"
          ],
          [
           0.8,
           "rgb(67,147,195)"
          ],
          [
           0.9,
           "rgb(33,102,172)"
          ],
          [
           1,
           "rgb(5,48,97)"
          ]
         ],
         "type": "heatmap",
         "x": [
          "StkIndx",
          "STInt",
          "dtdlevel",
          "dtdtrend",
          "liqnonfinlevel",
          "liqnonfintrend",
          "ni2talevel",
          "ni2tatrend",
          "sizelevel",
          "sizetrend",
          "m2b",
          "sigma",
          "DTDmedianNonFin",
          "Y"
         ],
         "y": [
          "StkIndx",
          "STInt",
          "dtdlevel",
          "dtdtrend",
          "liqnonfinlevel",
          "liqnonfintrend",
          "ni2talevel",
          "ni2tatrend",
          "sizelevel",
          "sizetrend",
          "m2b",
          "sigma",
          "DTDmedianNonFin",
          "Y"
         ],
         "z": [
          [
           1,
           0.1540301659572015,
           0.016976354138652498,
           0.12294863444711328,
           -0.010549017135464803,
           0.004912575954187851,
           -0.016963344655731086,
           0.01748825762780505,
           -0.01896848006122342,
           0.10254406022383424,
           0.002962575925266586,
           -0.04707304165749401,
           0.39416215130763066,
           -0.029885972703942325
          ],
          [
           0.1540301659572015,
           1,
           0.021723939324517386,
           0.00521539817449188,
           0.051804182023046805,
           -0.004940379987697918,
           0.02640780788754333,
           0.007096005699927949,
           -0.0057906072532562,
           0.1361499392114011,
           -0.0030899718422579634,
           0.07165319549564511,
           -0.3503059950731826,
           -0.09514512464509846
          ],
          [
           0.016976354138652498,
           0.021723939324517386,
           1,
           -0.39608824657868047,
           0.11879917897732892,
           -0.07030892555221488,
           0.24795083288462005,
           0.025680762707657755,
           0.17465079272999046,
           0.020638858332714654,
           0.18977223058951195,
           -0.35323767251301186,
           0.10256963442462395,
           -0.08238664968992603
          ],
          [
           0.12294863444711328,
           0.00521539817449188,
           -0.39608824657868047,
           1,
           0.02502335458884587,
           0.12160348439907026,
           0.003947853145641482,
           0.0393262293974747,
           0.03390454030787019,
           0.15510137148888192,
           -0.005497820891580786,
           -0.03845935017756667,
           0.056587484317828306,
           -0.03444892887187635
          ],
          [
           -0.010549017135464803,
           0.051804182023046805,
           0.11879917897732892,
           0.02502335458884587,
           1,
           -0.08547483528336368,
           0.05299828061051861,
           -0.004893641831421391,
           -0.09480314795701006,
           -0.0005715169264535968,
           0.061642495938732805,
           -0.04452506949371985,
           -0.019243675508752542,
           -0.06434946564812491
          ],
          [
           0.004912575954187851,
           -0.004940379987697918,
           -0.07030892555221488,
           0.12160348439907026,
           -0.08547483528336368,
           1,
           0.05897051616085283,
           0.05322700377133052,
           0.04085072117272583,
           0.08395896165156895,
           0.0009568283835847059,
           -0.010606177038047193,
           0.0046944896380593255,
           -0.048659753704802244
          ],
          [
           -0.016963344655731086,
           0.02640780788754333,
           0.24795083288462005,
           0.003947853145641482,
           0.05299828061051861,
           0.05897051616085283,
           1,
           0.03321963833846984,
           0.1297509283676335,
           0.044491792340866934,
           0.5081356163529467,
           -0.2720374481238065,
           0.0196470560197472,
           -0.07861002528094578
          ],
          [
           0.01748825762780505,
           0.007096005699927949,
           0.025680762707657755,
           0.0393262293974747,
           -0.004893641831421391,
           0.05322700377133052,
           0.03321963833846984,
           1,
           0.015936454435304354,
           0.08992440778724836,
           0.0886122624145961,
           -0.026745646179172404,
           0.014696666890850432,
           -0.04369009320255152
          ],
          [
           -0.01896848006122342,
           -0.0057906072532562,
           0.17465079272999046,
           0.03390454030787019,
           -0.09480314795701006,
           0.04085072117272583,
           0.1297509283676335,
           0.015936454435304354,
           1,
           0.04702245018737311,
           0.027239265382369406,
           -0.5838799252316019,
           0.014645311845875905,
           -0.10281677817509641
          ],
          [
           0.10254406022383424,
           0.1361499392114011,
           0.020638858332714654,
           0.15510137148888192,
           -0.0005715169264535968,
           0.08395896165156895,
           0.044491792340866934,
           0.08992440778724836,
           0.04702245018737311,
           1,
           0.0799645604602926,
           -0.027377196388615972,
           -0.008759198324286245,
           -0.2162954646761771
          ],
          [
           0.002962575925266586,
           -0.0030899718422579634,
           0.18977223058951195,
           -0.005497820891580786,
           0.061642495938732805,
           0.0009568283835847059,
           0.5081356163529467,
           0.0886122624145961,
           0.027239265382369406,
           0.0799645604602926,
           1,
           -0.04733466297378581,
           0.012582155307249867,
           -0.02408884188941936
          ],
          [
           -0.04707304165749401,
           0.07165319549564511,
           -0.35323767251301186,
           -0.03845935017756667,
           -0.04452506949371985,
           -0.010606177038047193,
           -0.2720374481238065,
           -0.026745646179172404,
           -0.5838799252316019,
           -0.027377196388615972,
           -0.04733466297378581,
           1,
           -0.26050942313298464,
           0.13377194586114752
          ],
          [
           0.39416215130763066,
           -0.3503059950731826,
           0.10256963442462395,
           0.056587484317828306,
           -0.019243675508752542,
           0.0046944896380593255,
           0.0196470560197472,
           0.014696666890850432,
           0.014645311845875905,
           -0.008759198324286245,
           0.012582155307249867,
           -0.26050942313298464,
           1,
           0.036596125793743974
          ],
          [
           -0.029885972703942325,
           -0.09514512464509846,
           -0.08238664968992603,
           -0.03444892887187635,
           -0.06434946564812491,
           -0.048659753704802244,
           -0.07861002528094578,
           -0.04369009320255152,
           -0.10281677817509641,
           -0.2162954646761771,
           -0.02408884188941936,
           0.13377194586114752,
           0.036596125793743974,
           1
          ]
         ],
         "zmax": 1,
         "zmin": -1
        }
       ],
       "layout": {
        "annotations": [
         {
          "showarrow": false,
          "text": "1.0",
          "x": "StkIndx",
          "y": "StkIndx"
         },
         {
          "showarrow": false,
          "text": "0.15",
          "x": "STInt",
          "y": "StkIndx"
         },
         {
          "showarrow": false,
          "text": "0.02",
          "x": "dtdlevel",
          "y": "StkIndx"
         },
         {
          "showarrow": false,
          "text": "0.12",
          "x": "dtdtrend",
          "y": "StkIndx"
         },
         {
          "showarrow": false,
          "text": "-0.01",
          "x": "liqnonfinlevel",
          "y": "StkIndx"
         },
         {
          "showarrow": false,
          "text": "0.0",
          "x": "liqnonfintrend",
          "y": "StkIndx"
         },
         {
          "showarrow": false,
          "text": "-0.02",
          "x": "ni2talevel",
          "y": "StkIndx"
         },
         {
          "showarrow": false,
          "text": "0.02",
          "x": "ni2tatrend",
          "y": "StkIndx"
         },
         {
          "showarrow": false,
          "text": "-0.02",
          "x": "sizelevel",
          "y": "StkIndx"
         },
         {
          "showarrow": false,
          "text": "0.1",
          "x": "sizetrend",
          "y": "StkIndx"
         },
         {
          "showarrow": false,
          "text": "0.0",
          "x": "m2b",
          "y": "StkIndx"
         },
         {
          "showarrow": false,
          "text": "-0.05",
          "x": "sigma",
          "y": "StkIndx"
         },
         {
          "showarrow": false,
          "text": "0.39",
          "x": "DTDmedianNonFin",
          "y": "StkIndx"
         },
         {
          "showarrow": false,
          "text": "-0.03",
          "x": "Y",
          "y": "StkIndx"
         },
         {
          "showarrow": false,
          "text": "0.15",
          "x": "StkIndx",
          "y": "STInt"
         },
         {
          "showarrow": false,
          "text": "1.0",
          "x": "STInt",
          "y": "STInt"
         },
         {
          "showarrow": false,
          "text": "0.02",
          "x": "dtdlevel",
          "y": "STInt"
         },
         {
          "showarrow": false,
          "text": "0.01",
          "x": "dtdtrend",
          "y": "STInt"
         },
         {
          "showarrow": false,
          "text": "0.05",
          "x": "liqnonfinlevel",
          "y": "STInt"
         },
         {
          "showarrow": false,
          "text": "-0.0",
          "x": "liqnonfintrend",
          "y": "STInt"
         },
         {
          "showarrow": false,
          "text": "0.03",
          "x": "ni2talevel",
          "y": "STInt"
         },
         {
          "showarrow": false,
          "text": "0.01",
          "x": "ni2tatrend",
          "y": "STInt"
         },
         {
          "showarrow": false,
          "text": "-0.01",
          "x": "sizelevel",
          "y": "STInt"
         },
         {
          "showarrow": false,
          "text": "0.14",
          "x": "sizetrend",
          "y": "STInt"
         },
         {
          "showarrow": false,
          "text": "-0.0",
          "x": "m2b",
          "y": "STInt"
         },
         {
          "showarrow": false,
          "text": "0.07",
          "x": "sigma",
          "y": "STInt"
         },
         {
          "showarrow": false,
          "text": "-0.35",
          "x": "DTDmedianNonFin",
          "y": "STInt"
         },
         {
          "showarrow": false,
          "text": "-0.1",
          "x": "Y",
          "y": "STInt"
         },
         {
          "showarrow": false,
          "text": "0.02",
          "x": "StkIndx",
          "y": "dtdlevel"
         },
         {
          "showarrow": false,
          "text": "0.02",
          "x": "STInt",
          "y": "dtdlevel"
         },
         {
          "showarrow": false,
          "text": "1.0",
          "x": "dtdlevel",
          "y": "dtdlevel"
         },
         {
          "showarrow": false,
          "text": "-0.4",
          "x": "dtdtrend",
          "y": "dtdlevel"
         },
         {
          "showarrow": false,
          "text": "0.12",
          "x": "liqnonfinlevel",
          "y": "dtdlevel"
         },
         {
          "showarrow": false,
          "text": "-0.07",
          "x": "liqnonfintrend",
          "y": "dtdlevel"
         },
         {
          "showarrow": false,
          "text": "0.25",
          "x": "ni2talevel",
          "y": "dtdlevel"
         },
         {
          "showarrow": false,
          "text": "0.03",
          "x": "ni2tatrend",
          "y": "dtdlevel"
         },
         {
          "showarrow": false,
          "text": "0.17",
          "x": "sizelevel",
          "y": "dtdlevel"
         },
         {
          "showarrow": false,
          "text": "0.02",
          "x": "sizetrend",
          "y": "dtdlevel"
         },
         {
          "showarrow": false,
          "text": "0.19",
          "x": "m2b",
          "y": "dtdlevel"
         },
         {
          "showarrow": false,
          "text": "-0.35",
          "x": "sigma",
          "y": "dtdlevel"
         },
         {
          "showarrow": false,
          "text": "0.1",
          "x": "DTDmedianNonFin",
          "y": "dtdlevel"
         },
         {
          "showarrow": false,
          "text": "-0.08",
          "x": "Y",
          "y": "dtdlevel"
         },
         {
          "showarrow": false,
          "text": "0.12",
          "x": "StkIndx",
          "y": "dtdtrend"
         },
         {
          "showarrow": false,
          "text": "0.01",
          "x": "STInt",
          "y": "dtdtrend"
         },
         {
          "showarrow": false,
          "text": "-0.4",
          "x": "dtdlevel",
          "y": "dtdtrend"
         },
         {
          "showarrow": false,
          "text": "1.0",
          "x": "dtdtrend",
          "y": "dtdtrend"
         },
         {
          "showarrow": false,
          "text": "0.03",
          "x": "liqnonfinlevel",
          "y": "dtdtrend"
         },
         {
          "showarrow": false,
          "text": "0.12",
          "x": "liqnonfintrend",
          "y": "dtdtrend"
         },
         {
          "showarrow": false,
          "text": "0.0",
          "x": "ni2talevel",
          "y": "dtdtrend"
         },
         {
          "showarrow": false,
          "text": "0.04",
          "x": "ni2tatrend",
          "y": "dtdtrend"
         },
         {
          "showarrow": false,
          "text": "0.03",
          "x": "sizelevel",
          "y": "dtdtrend"
         },
         {
          "showarrow": false,
          "text": "0.16",
          "x": "sizetrend",
          "y": "dtdtrend"
         },
         {
          "showarrow": false,
          "text": "-0.01",
          "x": "m2b",
          "y": "dtdtrend"
         },
         {
          "showarrow": false,
          "text": "-0.04",
          "x": "sigma",
          "y": "dtdtrend"
         },
         {
          "showarrow": false,
          "text": "0.06",
          "x": "DTDmedianNonFin",
          "y": "dtdtrend"
         },
         {
          "showarrow": false,
          "text": "-0.03",
          "x": "Y",
          "y": "dtdtrend"
         },
         {
          "showarrow": false,
          "text": "-0.01",
          "x": "StkIndx",
          "y": "liqnonfinlevel"
         },
         {
          "showarrow": false,
          "text": "0.05",
          "x": "STInt",
          "y": "liqnonfinlevel"
         },
         {
          "showarrow": false,
          "text": "0.12",
          "x": "dtdlevel",
          "y": "liqnonfinlevel"
         },
         {
          "showarrow": false,
          "text": "0.03",
          "x": "dtdtrend",
          "y": "liqnonfinlevel"
         },
         {
          "showarrow": false,
          "text": "1.0",
          "x": "liqnonfinlevel",
          "y": "liqnonfinlevel"
         },
         {
          "showarrow": false,
          "text": "-0.09",
          "x": "liqnonfintrend",
          "y": "liqnonfinlevel"
         },
         {
          "showarrow": false,
          "text": "0.05",
          "x": "ni2talevel",
          "y": "liqnonfinlevel"
         },
         {
          "showarrow": false,
          "text": "-0.0",
          "x": "ni2tatrend",
          "y": "liqnonfinlevel"
         },
         {
          "showarrow": false,
          "text": "-0.09",
          "x": "sizelevel",
          "y": "liqnonfinlevel"
         },
         {
          "showarrow": false,
          "text": "-0.0",
          "x": "sizetrend",
          "y": "liqnonfinlevel"
         },
         {
          "showarrow": false,
          "text": "0.06",
          "x": "m2b",
          "y": "liqnonfinlevel"
         },
         {
          "showarrow": false,
          "text": "-0.04",
          "x": "sigma",
          "y": "liqnonfinlevel"
         },
         {
          "showarrow": false,
          "text": "-0.02",
          "x": "DTDmedianNonFin",
          "y": "liqnonfinlevel"
         },
         {
          "showarrow": false,
          "text": "-0.06",
          "x": "Y",
          "y": "liqnonfinlevel"
         },
         {
          "showarrow": false,
          "text": "0.0",
          "x": "StkIndx",
          "y": "liqnonfintrend"
         },
         {
          "showarrow": false,
          "text": "-0.0",
          "x": "STInt",
          "y": "liqnonfintrend"
         },
         {
          "showarrow": false,
          "text": "-0.07",
          "x": "dtdlevel",
          "y": "liqnonfintrend"
         },
         {
          "showarrow": false,
          "text": "0.12",
          "x": "dtdtrend",
          "y": "liqnonfintrend"
         },
         {
          "showarrow": false,
          "text": "-0.09",
          "x": "liqnonfinlevel",
          "y": "liqnonfintrend"
         },
         {
          "showarrow": false,
          "text": "1.0",
          "x": "liqnonfintrend",
          "y": "liqnonfintrend"
         },
         {
          "showarrow": false,
          "text": "0.06",
          "x": "ni2talevel",
          "y": "liqnonfintrend"
         },
         {
          "showarrow": false,
          "text": "0.05",
          "x": "ni2tatrend",
          "y": "liqnonfintrend"
         },
         {
          "showarrow": false,
          "text": "0.04",
          "x": "sizelevel",
          "y": "liqnonfintrend"
         },
         {
          "showarrow": false,
          "text": "0.08",
          "x": "sizetrend",
          "y": "liqnonfintrend"
         },
         {
          "showarrow": false,
          "text": "0.0",
          "x": "m2b",
          "y": "liqnonfintrend"
         },
         {
          "showarrow": false,
          "text": "-0.01",
          "x": "sigma",
          "y": "liqnonfintrend"
         },
         {
          "showarrow": false,
          "text": "0.0",
          "x": "DTDmedianNonFin",
          "y": "liqnonfintrend"
         },
         {
          "showarrow": false,
          "text": "-0.05",
          "x": "Y",
          "y": "liqnonfintrend"
         },
         {
          "showarrow": false,
          "text": "-0.02",
          "x": "StkIndx",
          "y": "ni2talevel"
         },
         {
          "showarrow": false,
          "text": "0.03",
          "x": "STInt",
          "y": "ni2talevel"
         },
         {
          "showarrow": false,
          "text": "0.25",
          "x": "dtdlevel",
          "y": "ni2talevel"
         },
         {
          "showarrow": false,
          "text": "0.0",
          "x": "dtdtrend",
          "y": "ni2talevel"
         },
         {
          "showarrow": false,
          "text": "0.05",
          "x": "liqnonfinlevel",
          "y": "ni2talevel"
         },
         {
          "showarrow": false,
          "text": "0.06",
          "x": "liqnonfintrend",
          "y": "ni2talevel"
         },
         {
          "showarrow": false,
          "text": "1.0",
          "x": "ni2talevel",
          "y": "ni2talevel"
         },
         {
          "showarrow": false,
          "text": "0.03",
          "x": "ni2tatrend",
          "y": "ni2talevel"
         },
         {
          "showarrow": false,
          "text": "0.13",
          "x": "sizelevel",
          "y": "ni2talevel"
         },
         {
          "showarrow": false,
          "text": "0.04",
          "x": "sizetrend",
          "y": "ni2talevel"
         },
         {
          "showarrow": false,
          "text": "0.51",
          "x": "m2b",
          "y": "ni2talevel"
         },
         {
          "showarrow": false,
          "text": "-0.27",
          "x": "sigma",
          "y": "ni2talevel"
         },
         {
          "showarrow": false,
          "text": "0.02",
          "x": "DTDmedianNonFin",
          "y": "ni2talevel"
         },
         {
          "showarrow": false,
          "text": "-0.08",
          "x": "Y",
          "y": "ni2talevel"
         },
         {
          "showarrow": false,
          "text": "0.02",
          "x": "StkIndx",
          "y": "ni2tatrend"
         },
         {
          "showarrow": false,
          "text": "0.01",
          "x": "STInt",
          "y": "ni2tatrend"
         },
         {
          "showarrow": false,
          "text": "0.03",
          "x": "dtdlevel",
          "y": "ni2tatrend"
         },
         {
          "showarrow": false,
          "text": "0.04",
          "x": "dtdtrend",
          "y": "ni2tatrend"
         },
         {
          "showarrow": false,
          "text": "-0.0",
          "x": "liqnonfinlevel",
          "y": "ni2tatrend"
         },
         {
          "showarrow": false,
          "text": "0.05",
          "x": "liqnonfintrend",
          "y": "ni2tatrend"
         },
         {
          "showarrow": false,
          "text": "0.03",
          "x": "ni2talevel",
          "y": "ni2tatrend"
         },
         {
          "showarrow": false,
          "text": "1.0",
          "x": "ni2tatrend",
          "y": "ni2tatrend"
         },
         {
          "showarrow": false,
          "text": "0.02",
          "x": "sizelevel",
          "y": "ni2tatrend"
         },
         {
          "showarrow": false,
          "text": "0.09",
          "x": "sizetrend",
          "y": "ni2tatrend"
         },
         {
          "showarrow": false,
          "text": "0.09",
          "x": "m2b",
          "y": "ni2tatrend"
         },
         {
          "showarrow": false,
          "text": "-0.03",
          "x": "sigma",
          "y": "ni2tatrend"
         },
         {
          "showarrow": false,
          "text": "0.01",
          "x": "DTDmedianNonFin",
          "y": "ni2tatrend"
         },
         {
          "showarrow": false,
          "text": "-0.04",
          "x": "Y",
          "y": "ni2tatrend"
         },
         {
          "showarrow": false,
          "text": "-0.02",
          "x": "StkIndx",
          "y": "sizelevel"
         },
         {
          "showarrow": false,
          "text": "-0.01",
          "x": "STInt",
          "y": "sizelevel"
         },
         {
          "showarrow": false,
          "text": "0.17",
          "x": "dtdlevel",
          "y": "sizelevel"
         },
         {
          "showarrow": false,
          "text": "0.03",
          "x": "dtdtrend",
          "y": "sizelevel"
         },
         {
          "showarrow": false,
          "text": "-0.09",
          "x": "liqnonfinlevel",
          "y": "sizelevel"
         },
         {
          "showarrow": false,
          "text": "0.04",
          "x": "liqnonfintrend",
          "y": "sizelevel"
         },
         {
          "showarrow": false,
          "text": "0.13",
          "x": "ni2talevel",
          "y": "sizelevel"
         },
         {
          "showarrow": false,
          "text": "0.02",
          "x": "ni2tatrend",
          "y": "sizelevel"
         },
         {
          "showarrow": false,
          "text": "1.0",
          "x": "sizelevel",
          "y": "sizelevel"
         },
         {
          "showarrow": false,
          "text": "0.05",
          "x": "sizetrend",
          "y": "sizelevel"
         },
         {
          "showarrow": false,
          "text": "0.03",
          "x": "m2b",
          "y": "sizelevel"
         },
         {
          "showarrow": false,
          "text": "-0.58",
          "x": "sigma",
          "y": "sizelevel"
         },
         {
          "showarrow": false,
          "text": "0.01",
          "x": "DTDmedianNonFin",
          "y": "sizelevel"
         },
         {
          "showarrow": false,
          "text": "-0.1",
          "x": "Y",
          "y": "sizelevel"
         },
         {
          "showarrow": false,
          "text": "0.1",
          "x": "StkIndx",
          "y": "sizetrend"
         },
         {
          "showarrow": false,
          "text": "0.14",
          "x": "STInt",
          "y": "sizetrend"
         },
         {
          "showarrow": false,
          "text": "0.02",
          "x": "dtdlevel",
          "y": "sizetrend"
         },
         {
          "showarrow": false,
          "text": "0.16",
          "x": "dtdtrend",
          "y": "sizetrend"
         },
         {
          "showarrow": false,
          "text": "-0.0",
          "x": "liqnonfinlevel",
          "y": "sizetrend"
         },
         {
          "showarrow": false,
          "text": "0.08",
          "x": "liqnonfintrend",
          "y": "sizetrend"
         },
         {
          "showarrow": false,
          "text": "0.04",
          "x": "ni2talevel",
          "y": "sizetrend"
         },
         {
          "showarrow": false,
          "text": "0.09",
          "x": "ni2tatrend",
          "y": "sizetrend"
         },
         {
          "showarrow": false,
          "text": "0.05",
          "x": "sizelevel",
          "y": "sizetrend"
         },
         {
          "showarrow": false,
          "text": "1.0",
          "x": "sizetrend",
          "y": "sizetrend"
         },
         {
          "showarrow": false,
          "text": "0.08",
          "x": "m2b",
          "y": "sizetrend"
         },
         {
          "showarrow": false,
          "text": "-0.03",
          "x": "sigma",
          "y": "sizetrend"
         },
         {
          "showarrow": false,
          "text": "-0.01",
          "x": "DTDmedianNonFin",
          "y": "sizetrend"
         },
         {
          "showarrow": false,
          "text": "-0.22",
          "x": "Y",
          "y": "sizetrend"
         },
         {
          "showarrow": false,
          "text": "0.0",
          "x": "StkIndx",
          "y": "m2b"
         },
         {
          "showarrow": false,
          "text": "-0.0",
          "x": "STInt",
          "y": "m2b"
         },
         {
          "showarrow": false,
          "text": "0.19",
          "x": "dtdlevel",
          "y": "m2b"
         },
         {
          "showarrow": false,
          "text": "-0.01",
          "x": "dtdtrend",
          "y": "m2b"
         },
         {
          "showarrow": false,
          "text": "0.06",
          "x": "liqnonfinlevel",
          "y": "m2b"
         },
         {
          "showarrow": false,
          "text": "0.0",
          "x": "liqnonfintrend",
          "y": "m2b"
         },
         {
          "showarrow": false,
          "text": "0.51",
          "x": "ni2talevel",
          "y": "m2b"
         },
         {
          "showarrow": false,
          "text": "0.09",
          "x": "ni2tatrend",
          "y": "m2b"
         },
         {
          "showarrow": false,
          "text": "0.03",
          "x": "sizelevel",
          "y": "m2b"
         },
         {
          "showarrow": false,
          "text": "0.08",
          "x": "sizetrend",
          "y": "m2b"
         },
         {
          "showarrow": false,
          "text": "1.0",
          "x": "m2b",
          "y": "m2b"
         },
         {
          "showarrow": false,
          "text": "-0.05",
          "x": "sigma",
          "y": "m2b"
         },
         {
          "showarrow": false,
          "text": "0.01",
          "x": "DTDmedianNonFin",
          "y": "m2b"
         },
         {
          "showarrow": false,
          "text": "-0.02",
          "x": "Y",
          "y": "m2b"
         },
         {
          "showarrow": false,
          "text": "-0.05",
          "x": "StkIndx",
          "y": "sigma"
         },
         {
          "showarrow": false,
          "text": "0.07",
          "x": "STInt",
          "y": "sigma"
         },
         {
          "showarrow": false,
          "text": "-0.35",
          "x": "dtdlevel",
          "y": "sigma"
         },
         {
          "showarrow": false,
          "text": "-0.04",
          "x": "dtdtrend",
          "y": "sigma"
         },
         {
          "showarrow": false,
          "text": "-0.04",
          "x": "liqnonfinlevel",
          "y": "sigma"
         },
         {
          "showarrow": false,
          "text": "-0.01",
          "x": "liqnonfintrend",
          "y": "sigma"
         },
         {
          "showarrow": false,
          "text": "-0.27",
          "x": "ni2talevel",
          "y": "sigma"
         },
         {
          "showarrow": false,
          "text": "-0.03",
          "x": "ni2tatrend",
          "y": "sigma"
         },
         {
          "showarrow": false,
          "text": "-0.58",
          "x": "sizelevel",
          "y": "sigma"
         },
         {
          "showarrow": false,
          "text": "-0.03",
          "x": "sizetrend",
          "y": "sigma"
         },
         {
          "showarrow": false,
          "text": "-0.05",
          "x": "m2b",
          "y": "sigma"
         },
         {
          "showarrow": false,
          "text": "1.0",
          "x": "sigma",
          "y": "sigma"
         },
         {
          "showarrow": false,
          "text": "-0.26",
          "x": "DTDmedianNonFin",
          "y": "sigma"
         },
         {
          "showarrow": false,
          "text": "0.13",
          "x": "Y",
          "y": "sigma"
         },
         {
          "showarrow": false,
          "text": "0.39",
          "x": "StkIndx",
          "y": "DTDmedianNonFin"
         },
         {
          "showarrow": false,
          "text": "-0.35",
          "x": "STInt",
          "y": "DTDmedianNonFin"
         },
         {
          "showarrow": false,
          "text": "0.1",
          "x": "dtdlevel",
          "y": "DTDmedianNonFin"
         },
         {
          "showarrow": false,
          "text": "0.06",
          "x": "dtdtrend",
          "y": "DTDmedianNonFin"
         },
         {
          "showarrow": false,
          "text": "-0.02",
          "x": "liqnonfinlevel",
          "y": "DTDmedianNonFin"
         },
         {
          "showarrow": false,
          "text": "0.0",
          "x": "liqnonfintrend",
          "y": "DTDmedianNonFin"
         },
         {
          "showarrow": false,
          "text": "0.02",
          "x": "ni2talevel",
          "y": "DTDmedianNonFin"
         },
         {
          "showarrow": false,
          "text": "0.01",
          "x": "ni2tatrend",
          "y": "DTDmedianNonFin"
         },
         {
          "showarrow": false,
          "text": "0.01",
          "x": "sizelevel",
          "y": "DTDmedianNonFin"
         },
         {
          "showarrow": false,
          "text": "-0.01",
          "x": "sizetrend",
          "y": "DTDmedianNonFin"
         },
         {
          "showarrow": false,
          "text": "0.01",
          "x": "m2b",
          "y": "DTDmedianNonFin"
         },
         {
          "showarrow": false,
          "text": "-0.26",
          "x": "sigma",
          "y": "DTDmedianNonFin"
         },
         {
          "showarrow": false,
          "text": "1.0",
          "x": "DTDmedianNonFin",
          "y": "DTDmedianNonFin"
         },
         {
          "showarrow": false,
          "text": "0.04",
          "x": "Y",
          "y": "DTDmedianNonFin"
         },
         {
          "showarrow": false,
          "text": "-0.03",
          "x": "StkIndx",
          "y": "Y"
         },
         {
          "showarrow": false,
          "text": "-0.1",
          "x": "STInt",
          "y": "Y"
         },
         {
          "showarrow": false,
          "text": "-0.08",
          "x": "dtdlevel",
          "y": "Y"
         },
         {
          "showarrow": false,
          "text": "-0.03",
          "x": "dtdtrend",
          "y": "Y"
         },
         {
          "showarrow": false,
          "text": "-0.06",
          "x": "liqnonfinlevel",
          "y": "Y"
         },
         {
          "showarrow": false,
          "text": "-0.05",
          "x": "liqnonfintrend",
          "y": "Y"
         },
         {
          "showarrow": false,
          "text": "-0.08",
          "x": "ni2talevel",
          "y": "Y"
         },
         {
          "showarrow": false,
          "text": "-0.04",
          "x": "ni2tatrend",
          "y": "Y"
         },
         {
          "showarrow": false,
          "text": "-0.1",
          "x": "sizelevel",
          "y": "Y"
         },
         {
          "showarrow": false,
          "text": "-0.22",
          "x": "sizetrend",
          "y": "Y"
         },
         {
          "showarrow": false,
          "text": "-0.02",
          "x": "m2b",
          "y": "Y"
         },
         {
          "showarrow": false,
          "text": "0.13",
          "x": "sigma",
          "y": "Y"
         },
         {
          "showarrow": false,
          "text": "0.04",
          "x": "DTDmedianNonFin",
          "y": "Y"
         },
         {
          "showarrow": false,
          "text": "1.0",
          "x": "Y",
          "y": "Y"
         }
        ],
        "template": {
         "data": {
          "bar": [
           {
            "error_x": {
             "color": "#2a3f5f"
            },
            "error_y": {
             "color": "#2a3f5f"
            },
            "marker": {
             "line": {
              "color": "#E5ECF6",
              "width": 0.5
             },
             "pattern": {
              "fillmode": "overlay",
              "size": 10,
              "solidity": 0.2
             }
            },
            "type": "bar"
           }
          ],
          "barpolar": [
           {
            "marker": {
             "line": {
              "color": "#E5ECF6",
              "width": 0.5
             },
             "pattern": {
              "fillmode": "overlay",
              "size": 10,
              "solidity": 0.2
             }
            },
            "type": "barpolar"
           }
          ],
          "carpet": [
           {
            "aaxis": {
             "endlinecolor": "#2a3f5f",
             "gridcolor": "white",
             "linecolor": "white",
             "minorgridcolor": "white",
             "startlinecolor": "#2a3f5f"
            },
            "baxis": {
             "endlinecolor": "#2a3f5f",
             "gridcolor": "white",
             "linecolor": "white",
             "minorgridcolor": "white",
             "startlinecolor": "#2a3f5f"
            },
            "type": "carpet"
           }
          ],
          "choropleth": [
           {
            "colorbar": {
             "outlinewidth": 0,
             "ticks": ""
            },
            "type": "choropleth"
           }
          ],
          "contour": [
           {
            "colorbar": {
             "outlinewidth": 0,
             "ticks": ""
            },
            "colorscale": [
             [
              0,
              "#0d0887"
             ],
             [
              0.1111111111111111,
              "#46039f"
             ],
             [
              0.2222222222222222,
              "#7201a8"
             ],
             [
              0.3333333333333333,
              "#9c179e"
             ],
             [
              0.4444444444444444,
              "#bd3786"
             ],
             [
              0.5555555555555556,
              "#d8576b"
             ],
             [
              0.6666666666666666,
              "#ed7953"
             ],
             [
              0.7777777777777778,
              "#fb9f3a"
             ],
             [
              0.8888888888888888,
              "#fdca26"
             ],
             [
              1,
              "#f0f921"
             ]
            ],
            "type": "contour"
           }
          ],
          "contourcarpet": [
           {
            "colorbar": {
             "outlinewidth": 0,
             "ticks": ""
            },
            "type": "contourcarpet"
           }
          ],
          "heatmap": [
           {
            "colorbar": {
             "outlinewidth": 0,
             "ticks": ""
            },
            "colorscale": [
             [
              0,
              "#0d0887"
             ],
             [
              0.1111111111111111,
              "#46039f"
             ],
             [
              0.2222222222222222,
              "#7201a8"
             ],
             [
              0.3333333333333333,
              "#9c179e"
             ],
             [
              0.4444444444444444,
              "#bd3786"
             ],
             [
              0.5555555555555556,
              "#d8576b"
             ],
             [
              0.6666666666666666,
              "#ed7953"
             ],
             [
              0.7777777777777778,
              "#fb9f3a"
             ],
             [
              0.8888888888888888,
              "#fdca26"
             ],
             [
              1,
              "#f0f921"
             ]
            ],
            "type": "heatmap"
           }
          ],
          "heatmapgl": [
           {
            "colorbar": {
             "outlinewidth": 0,
             "ticks": ""
            },
            "colorscale": [
             [
              0,
              "#0d0887"
             ],
             [
              0.1111111111111111,
              "#46039f"
             ],
             [
              0.2222222222222222,
              "#7201a8"
             ],
             [
              0.3333333333333333,
              "#9c179e"
             ],
             [
              0.4444444444444444,
              "#bd3786"
             ],
             [
              0.5555555555555556,
              "#d8576b"
             ],
             [
              0.6666666666666666,
              "#ed7953"
             ],
             [
              0.7777777777777778,
              "#fb9f3a"
             ],
             [
              0.8888888888888888,
              "#fdca26"
             ],
             [
              1,
              "#f0f921"
             ]
            ],
            "type": "heatmapgl"
           }
          ],
          "histogram": [
           {
            "marker": {
             "pattern": {
              "fillmode": "overlay",
              "size": 10,
              "solidity": 0.2
             }
            },
            "type": "histogram"
           }
          ],
          "histogram2d": [
           {
            "colorbar": {
             "outlinewidth": 0,
             "ticks": ""
            },
            "colorscale": [
             [
              0,
              "#0d0887"
             ],
             [
              0.1111111111111111,
              "#46039f"
             ],
             [
              0.2222222222222222,
              "#7201a8"
             ],
             [
              0.3333333333333333,
              "#9c179e"
             ],
             [
              0.4444444444444444,
              "#bd3786"
             ],
             [
              0.5555555555555556,
              "#d8576b"
             ],
             [
              0.6666666666666666,
              "#ed7953"
             ],
             [
              0.7777777777777778,
              "#fb9f3a"
             ],
             [
              0.8888888888888888,
              "#fdca26"
             ],
             [
              1,
              "#f0f921"
             ]
            ],
            "type": "histogram2d"
           }
          ],
          "histogram2dcontour": [
           {
            "colorbar": {
             "outlinewidth": 0,
             "ticks": ""
            },
            "colorscale": [
             [
              0,
              "#0d0887"
             ],
             [
              0.1111111111111111,
              "#46039f"
             ],
             [
              0.2222222222222222,
              "#7201a8"
             ],
             [
              0.3333333333333333,
              "#9c179e"
             ],
             [
              0.4444444444444444,
              "#bd3786"
             ],
             [
              0.5555555555555556,
              "#d8576b"
             ],
             [
              0.6666666666666666,
              "#ed7953"
             ],
             [
              0.7777777777777778,
              "#fb9f3a"
             ],
             [
              0.8888888888888888,
              "#fdca26"
             ],
             [
              1,
              "#f0f921"
             ]
            ],
            "type": "histogram2dcontour"
           }
          ],
          "mesh3d": [
           {
            "colorbar": {
             "outlinewidth": 0,
             "ticks": ""
            },
            "type": "mesh3d"
           }
          ],
          "parcoords": [
           {
            "line": {
             "colorbar": {
              "outlinewidth": 0,
              "ticks": ""
             }
            },
            "type": "parcoords"
           }
          ],
          "pie": [
           {
            "automargin": true,
            "type": "pie"
           }
          ],
          "scatter": [
           {
            "fillpattern": {
             "fillmode": "overlay",
             "size": 10,
             "solidity": 0.2
            },
            "type": "scatter"
           }
          ],
          "scatter3d": [
           {
            "line": {
             "colorbar": {
              "outlinewidth": 0,
              "ticks": ""
             }
            },
            "marker": {
             "colorbar": {
              "outlinewidth": 0,
              "ticks": ""
             }
            },
            "type": "scatter3d"
           }
          ],
          "scattercarpet": [
           {
            "marker": {
             "colorbar": {
              "outlinewidth": 0,
              "ticks": ""
             }
            },
            "type": "scattercarpet"
           }
          ],
          "scattergeo": [
           {
            "marker": {
             "colorbar": {
              "outlinewidth": 0,
              "ticks": ""
             }
            },
            "type": "scattergeo"
           }
          ],
          "scattergl": [
           {
            "marker": {
             "colorbar": {
              "outlinewidth": 0,
              "ticks": ""
             }
            },
            "type": "scattergl"
           }
          ],
          "scattermapbox": [
           {
            "marker": {
             "colorbar": {
              "outlinewidth": 0,
              "ticks": ""
             }
            },
            "type": "scattermapbox"
           }
          ],
          "scatterpolar": [
           {
            "marker": {
             "colorbar": {
              "outlinewidth": 0,
              "ticks": ""
             }
            },
            "type": "scatterpolar"
           }
          ],
          "scatterpolargl": [
           {
            "marker": {
             "colorbar": {
              "outlinewidth": 0,
              "ticks": ""
             }
            },
            "type": "scatterpolargl"
           }
          ],
          "scatterternary": [
           {
            "marker": {
             "colorbar": {
              "outlinewidth": 0,
              "ticks": ""
             }
            },
            "type": "scatterternary"
           }
          ],
          "surface": [
           {
            "colorbar": {
             "outlinewidth": 0,
             "ticks": ""
            },
            "colorscale": [
             [
              0,
              "#0d0887"
             ],
             [
              0.1111111111111111,
              "#46039f"
             ],
             [
              0.2222222222222222,
              "#7201a8"
             ],
             [
              0.3333333333333333,
              "#9c179e"
             ],
             [
              0.4444444444444444,
              "#bd3786"
             ],
             [
              0.5555555555555556,
              "#d8576b"
             ],
             [
              0.6666666666666666,
              "#ed7953"
             ],
             [
              0.7777777777777778,
              "#fb9f3a"
             ],
             [
              0.8888888888888888,
              "#fdca26"
             ],
             [
              1,
              "#f0f921"
             ]
            ],
            "type": "surface"
           }
          ],
          "table": [
           {
            "cells": {
             "fill": {
              "color": "#EBF0F8"
             },
             "line": {
              "color": "white"
             }
            },
            "header": {
             "fill": {
              "color": "#C8D4E3"
             },
             "line": {
              "color": "white"
             }
            },
            "type": "table"
           }
          ]
         },
         "layout": {
          "annotationdefaults": {
           "arrowcolor": "#2a3f5f",
           "arrowhead": 0,
           "arrowwidth": 1
          },
          "autotypenumbers": "strict",
          "coloraxis": {
           "colorbar": {
            "outlinewidth": 0,
            "ticks": ""
           }
          },
          "colorscale": {
           "diverging": [
            [
             0,
             "#8e0152"
            ],
            [
             0.1,
             "#c51b7d"
            ],
            [
             0.2,
             "#de77ae"
            ],
            [
             0.3,
             "#f1b6da"
            ],
            [
             0.4,
             "#fde0ef"
            ],
            [
             0.5,
             "#f7f7f7"
            ],
            [
             0.6,
             "#e6f5d0"
            ],
            [
             0.7,
             "#b8e186"
            ],
            [
             0.8,
             "#7fbc41"
            ],
            [
             0.9,
             "#4d9221"
            ],
            [
             1,
             "#276419"
            ]
           ],
           "sequential": [
            [
             0,
             "#0d0887"
            ],
            [
             0.1111111111111111,
             "#46039f"
            ],
            [
             0.2222222222222222,
             "#7201a8"
            ],
            [
             0.3333333333333333,
             "#9c179e"
            ],
            [
             0.4444444444444444,
             "#bd3786"
            ],
            [
             0.5555555555555556,
             "#d8576b"
            ],
            [
             0.6666666666666666,
             "#ed7953"
            ],
            [
             0.7777777777777778,
             "#fb9f3a"
            ],
            [
             0.8888888888888888,
             "#fdca26"
            ],
            [
             1,
             "#f0f921"
            ]
           ],
           "sequentialminus": [
            [
             0,
             "#0d0887"
            ],
            [
             0.1111111111111111,
             "#46039f"
            ],
            [
             0.2222222222222222,
             "#7201a8"
            ],
            [
             0.3333333333333333,
             "#9c179e"
            ],
            [
             0.4444444444444444,
             "#bd3786"
            ],
            [
             0.5555555555555556,
             "#d8576b"
            ],
            [
             0.6666666666666666,
             "#ed7953"
            ],
            [
             0.7777777777777778,
             "#fb9f3a"
            ],
            [
             0.8888888888888888,
             "#fdca26"
            ],
            [
             1,
             "#f0f921"
            ]
           ]
          },
          "colorway": [
           "#636efa",
           "#EF553B",
           "#00cc96",
           "#ab63fa",
           "#FFA15A",
           "#19d3f3",
           "#FF6692",
           "#B6E880",
           "#FF97FF",
           "#FECB52"
          ],
          "font": {
           "color": "#2a3f5f"
          },
          "geo": {
           "bgcolor": "white",
           "lakecolor": "white",
           "landcolor": "#E5ECF6",
           "showlakes": true,
           "showland": true,
           "subunitcolor": "white"
          },
          "hoverlabel": {
           "align": "left"
          },
          "hovermode": "closest",
          "mapbox": {
           "style": "light"
          },
          "paper_bgcolor": "white",
          "plot_bgcolor": "#E5ECF6",
          "polar": {
           "angularaxis": {
            "gridcolor": "white",
            "linecolor": "white",
            "ticks": ""
           },
           "bgcolor": "#E5ECF6",
           "radialaxis": {
            "gridcolor": "white",
            "linecolor": "white",
            "ticks": ""
           }
          },
          "scene": {
           "xaxis": {
            "backgroundcolor": "#E5ECF6",
            "gridcolor": "white",
            "gridwidth": 2,
            "linecolor": "white",
            "showbackground": true,
            "ticks": "",
            "zerolinecolor": "white"
           },
           "yaxis": {
            "backgroundcolor": "#E5ECF6",
            "gridcolor": "white",
            "gridwidth": 2,
            "linecolor": "white",
            "showbackground": true,
            "ticks": "",
            "zerolinecolor": "white"
           },
           "zaxis": {
            "backgroundcolor": "#E5ECF6",
            "gridcolor": "white",
            "gridwidth": 2,
            "linecolor": "white",
            "showbackground": true,
            "ticks": "",
            "zerolinecolor": "white"
           }
          },
          "shapedefaults": {
           "line": {
            "color": "#2a3f5f"
           }
          },
          "ternary": {
           "aaxis": {
            "gridcolor": "white",
            "linecolor": "white",
            "ticks": ""
           },
           "baxis": {
            "gridcolor": "white",
            "linecolor": "white",
            "ticks": ""
           },
           "bgcolor": "#E5ECF6",
           "caxis": {
            "gridcolor": "white",
            "linecolor": "white",
            "ticks": ""
           }
          },
          "title": {
           "x": 0.05
          },
          "xaxis": {
           "automargin": true,
           "gridcolor": "white",
           "linecolor": "white",
           "ticks": "",
           "title": {
            "standoff": 15
           },
           "zerolinecolor": "white",
           "zerolinewidth": 2
          },
          "yaxis": {
           "automargin": true,
           "gridcolor": "white",
           "linecolor": "white",
           "ticks": "",
           "title": {
            "standoff": 15
           },
           "zerolinecolor": "white",
           "zerolinewidth": 2
          }
         }
        }
       }
      }
     },
     "metadata": {},
     "output_type": "display_data"
    }
   ],
   "source": [
    "corr = raw.drop(columns=['CompNo', 'Company_name', 'INDUSTRY2', 'Date']).corr()\n",
    "\n",
    "heatmap = go.Heatmap(z=corr,\n",
    "                     x=corr.columns,\n",
    "                     y=corr.columns,\n",
    "                     colorscale='RdBu',\n",
    "                     zmin=-1, zmax=1)\n",
    "\n",
    "fig = go.Figure(data=[heatmap])\n",
    "\n",
    "# Add annotations\n",
    "annotations = []\n",
    "for i, row in enumerate(corr.values):\n",
    "    for j, value in enumerate(row):\n",
    "        annotations.append(go.layout.Annotation(x=corr.columns[j], y=corr.columns[i], text=str(round(value, 2)), showarrow=False))\n",
    "fig.update_layout(annotations=annotations)\n",
    "\n",
    "fig.show()"
   ]
  }
 ],
 "metadata": {
  "kernelspec": {
   "display_name": "predicting-default-of-a-public-firm-QWi4XMvO-py3.11",
   "language": "python",
   "name": "python3"
  },
  "language_info": {
   "codemirror_mode": {
    "name": "ipython",
    "version": 3
   },
   "file_extension": ".py",
   "mimetype": "text/x-python",
   "name": "python",
   "nbconvert_exporter": "python",
   "pygments_lexer": "ipython3",
   "version": "3.11.5"
  }
 },
 "nbformat": 4,
 "nbformat_minor": 2
}
