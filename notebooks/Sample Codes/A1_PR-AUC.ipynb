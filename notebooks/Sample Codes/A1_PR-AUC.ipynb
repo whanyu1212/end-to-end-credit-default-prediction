{
 "cells": [
  {
   "cell_type": "code",
   "execution_count": 6,
   "id": "1fda55b5",
   "metadata": {},
   "outputs": [
    {
     "name": "stdout",
     "output_type": "stream",
     "text": [
      "Fitting 5 folds for each of 27 candidates, totalling 135 fits\n",
      "Best Parameters: {'learning_rate': 0.1, 'max_depth': 7, 'n_estimators': 50}\n",
      "Best PR-AUC Score: 0.9678078415204847\n",
      "Test PR-AUC Score: 0.9375397920787583\n"
     ]
    }
   ],
   "source": [
    "import numpy as np\n",
    "import lightgbm as lgb\n",
    "from sklearn.model_selection import train_test_split, GridSearchCV\n",
    "from sklearn.metrics import make_scorer, average_precision_score\n",
    "from sklearn.datasets import make_classification\n",
    "\n",
    "# 1. Simulate Dataset\n",
    "X, y = make_classification(n_samples=1000, n_features=20, \n",
    "                           n_informative=2, n_redundant=10,\n",
    "                           random_state=42)\n",
    "\n",
    "# Split dataset into training and testing\n",
    "X_train, X_test, y_train, y_test = train_test_split(X, y, test_size=0.2, random_state=42)\n",
    "\n",
    "# 2. Model Setup\n",
    "# Initialize a LightGBM classifier\n",
    "lgbm = lgb.LGBMClassifier()\n",
    "\n",
    "# 3. Hyperparameter Tuning\n",
    "# Define a parameter grid\n",
    "param_grid = {\n",
    "    'n_estimators': [50, 100, 150],\n",
    "    'learning_rate': [0.01, 0.1, 0.5],\n",
    "    'max_depth': [3, 5, 7]\n",
    "}\n",
    "\n",
    "################################################################\n",
    "# Define PR-AUC scorer, this is an important step for you to learn\n",
    "################################################################\n",
    "pr_auc_scorer = make_scorer(average_precision_score, greater_is_better=True, needs_proba=True)\n",
    "\n",
    "# Set up GridSearchCV\n",
    "grid_search = GridSearchCV(estimator=lgbm, param_grid=param_grid, \n",
    "                           scoring=pr_auc_scorer, cv=5, verbose=1)\n",
    "\n",
    "# Fit the model\n",
    "grid_search.fit(X_train, y_train)\n",
    "\n",
    "# 4. PR-AUC Evaluation\n",
    "# Best parameters and best score\n",
    "print(f\"Best Parameters: {grid_search.best_params_}\")\n",
    "print(f\"Best PR-AUC Score: {grid_search.best_score_}\")\n",
    "\n",
    "# Predict probabilities on the test set\n",
    "y_proba = grid_search.predict_proba(X_test)[:, 1]\n",
    "\n",
    "# Calculate PR-AUC on the test set\n",
    "pr_auc_score = average_precision_score(y_test, y_proba)\n",
    "print(f\"Test PR-AUC Score: {pr_auc_score}\")\n"
   ]
  }
 ],
 "metadata": {
  "kernelspec": {
   "display_name": "Python 3 (ipykernel)",
   "language": "python",
   "name": "python3"
  },
  "language_info": {
   "codemirror_mode": {
    "name": "ipython",
    "version": 3
   },
   "file_extension": ".py",
   "mimetype": "text/x-python",
   "name": "python",
   "nbconvert_exporter": "python",
   "pygments_lexer": "ipython3",
   "version": "3.10.9"
  }
 },
 "nbformat": 4,
 "nbformat_minor": 5
}
